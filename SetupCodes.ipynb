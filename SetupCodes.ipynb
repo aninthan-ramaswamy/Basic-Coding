{
 "cells": [
  {
   "cell_type": "markdown",
   "id": "4ccd831d",
   "metadata": {},
   "source": [
    "Installing Packages is messy from Jupyter\n",
    "Use -> CMD py -m pip install\n",
    "CMD py -m pip show\n",
    "\n",
    "If you need to, do the following - "
   ]
  },
  {
   "cell_type": "code",
   "execution_count": 1,
   "id": "5ed13879",
   "metadata": {},
   "outputs": [
    {
     "name": "stdout",
     "output_type": "stream",
     "text": [
      "Requirement already satisfied: numpy in /opt/anaconda3/lib/python3.8/site-packages (1.20.1)\r\n"
     ]
    }
   ],
   "source": [
    "import sys\n",
    "!{sys.executable} -m pip install numpy"
   ]
  },
  {
   "cell_type": "code",
   "execution_count": 2,
   "id": "4c147beb",
   "metadata": {},
   "outputs": [],
   "source": [
    "import numpy as np\n",
    "import pandas as pd"
   ]
  },
  {
   "cell_type": "markdown",
   "id": "08c1ba3a",
   "metadata": {},
   "source": [
    "Quick way to check if a package has been installed/imported and is up to date -"
   ]
  },
  {
   "cell_type": "code",
   "execution_count": 3,
   "id": "c16a2c17",
   "metadata": {},
   "outputs": [
    {
     "name": "stdout",
     "output_type": "stream",
     "text": [
      "1.2.4\n"
     ]
    }
   ],
   "source": [
    "print(pd.__version__)"
   ]
  }
 ],
 "metadata": {
  "kernelspec": {
   "display_name": "Python 3",
   "language": "python",
   "name": "python3"
  },
  "language_info": {
   "codemirror_mode": {
    "name": "ipython",
    "version": 3
   },
   "file_extension": ".py",
   "mimetype": "text/x-python",
   "name": "python",
   "nbconvert_exporter": "python",
   "pygments_lexer": "ipython3",
   "version": "3.8.8"
  }
 },
 "nbformat": 4,
 "nbformat_minor": 5
}
